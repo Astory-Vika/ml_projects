{
 "cells": [
  {
   "cell_type": "code",
   "execution_count": 1,
   "id": "5514fbb6",
   "metadata": {},
   "outputs": [],
   "source": [
    "import pandas as pd\n",
    "\n",
    "# Завантаження датасету з вказаного URL\n",
    "url = \"https://github.com/mahi1997/LearnGit/raw/master/museum_visitors.csv\"\n",
    "df = pd.read_csv(url)\n",
    "\n",
    "# Перетворення стовпця \"Date\" в тип \"datetime\"\n",
    "df['Date'] = pd.to_datetime(df['Date'])\n",
    "\n",
    "# Тепер стовпець \"Date\" має тип \"datetime\" і може бути використаний для роботи з датами"
   ]
  },
  {
   "cell_type": "code",
   "execution_count": 3,
   "id": "09b50a8b",
   "metadata": {},
   "outputs": [
    {
     "data": {
      "text/html": [
       "<div>\n",
       "<style scoped>\n",
       "    .dataframe tbody tr th:only-of-type {\n",
       "        vertical-align: middle;\n",
       "    }\n",
       "\n",
       "    .dataframe tbody tr th {\n",
       "        vertical-align: top;\n",
       "    }\n",
       "\n",
       "    .dataframe thead th {\n",
       "        text-align: right;\n",
       "    }\n",
       "</style>\n",
       "<table border=\"1\" class=\"dataframe\">\n",
       "  <thead>\n",
       "    <tr style=\"text-align: right;\">\n",
       "      <th></th>\n",
       "      <th>Date</th>\n",
       "      <th>Avila Adobe</th>\n",
       "      <th>Firehouse Museum</th>\n",
       "      <th>Chinese American Museum</th>\n",
       "      <th>America Tropical Interpretive Center</th>\n",
       "    </tr>\n",
       "  </thead>\n",
       "  <tbody>\n",
       "    <tr>\n",
       "      <th>0</th>\n",
       "      <td>2014-01-01</td>\n",
       "      <td>24778</td>\n",
       "      <td>4486</td>\n",
       "      <td>1581</td>\n",
       "      <td>6602</td>\n",
       "    </tr>\n",
       "    <tr>\n",
       "      <th>1</th>\n",
       "      <td>2014-02-01</td>\n",
       "      <td>18976</td>\n",
       "      <td>4172</td>\n",
       "      <td>1785</td>\n",
       "      <td>5029</td>\n",
       "    </tr>\n",
       "    <tr>\n",
       "      <th>2</th>\n",
       "      <td>2014-03-01</td>\n",
       "      <td>25231</td>\n",
       "      <td>7082</td>\n",
       "      <td>3229</td>\n",
       "      <td>8129</td>\n",
       "    </tr>\n",
       "    <tr>\n",
       "      <th>3</th>\n",
       "      <td>2014-04-01</td>\n",
       "      <td>26989</td>\n",
       "      <td>6756</td>\n",
       "      <td>2129</td>\n",
       "      <td>2824</td>\n",
       "    </tr>\n",
       "    <tr>\n",
       "      <th>4</th>\n",
       "      <td>2014-05-01</td>\n",
       "      <td>36883</td>\n",
       "      <td>10858</td>\n",
       "      <td>3676</td>\n",
       "      <td>10694</td>\n",
       "    </tr>\n",
       "  </tbody>\n",
       "</table>\n",
       "</div>"
      ],
      "text/plain": [
       "        Date  Avila Adobe  Firehouse Museum  Chinese American Museum  \\\n",
       "0 2014-01-01        24778              4486                     1581   \n",
       "1 2014-02-01        18976              4172                     1785   \n",
       "2 2014-03-01        25231              7082                     3229   \n",
       "3 2014-04-01        26989              6756                     2129   \n",
       "4 2014-05-01        36883             10858                     3676   \n",
       "\n",
       "   America Tropical Interpretive Center  \n",
       "0                                  6602  \n",
       "1                                  5029  \n",
       "2                                  8129  \n",
       "3                                  2824  \n",
       "4                                 10694  "
      ]
     },
     "execution_count": 3,
     "metadata": {},
     "output_type": "execute_result"
    }
   ],
   "source": [
    "#2. Виведення перших 5 рядків датасету\n",
    "df.head()"
   ]
  },
  {
   "cell_type": "code",
   "execution_count": 4,
   "id": "cb8dbe2c",
   "metadata": {},
   "outputs": [
    {
     "data": {
      "text/plain": [
       "(59, 5)"
      ]
     },
     "execution_count": 4,
     "metadata": {},
     "output_type": "execute_result"
    }
   ],
   "source": [
    "#3. Попередній аналіз даних\n",
    "# Розмір датасету\n",
    "df.shape"
   ]
  },
  {
   "cell_type": "code",
   "execution_count": 5,
   "id": "3b2f73e9",
   "metadata": {},
   "outputs": [
    {
     "data": {
      "text/plain": [
       "Date                                    datetime64[ns]\n",
       "Avila Adobe                                      int64\n",
       "Firehouse Museum                                 int64\n",
       "Chinese American Museum                          int64\n",
       "America Tropical Interpretive Center             int64\n",
       "dtype: object"
      ]
     },
     "execution_count": 5,
     "metadata": {},
     "output_type": "execute_result"
    }
   ],
   "source": [
    "#Тип даних\n",
    "df.dtypes"
   ]
  },
  {
   "cell_type": "code",
   "execution_count": 6,
   "id": "dd3ab7ee",
   "metadata": {},
   "outputs": [
    {
     "data": {
      "text/plain": [
       "Date                                    0\n",
       "Avila Adobe                             0\n",
       "Firehouse Museum                        0\n",
       "Chinese American Museum                 0\n",
       "America Tropical Interpretive Center    0\n",
       "dtype: int64"
      ]
     },
     "execution_count": 6,
     "metadata": {},
     "output_type": "execute_result"
    }
   ],
   "source": [
    "#Кількість пропусків\n",
    "df.isnull().sum()"
   ]
  },
  {
   "cell_type": "code",
   "execution_count": 7,
   "id": "6233fd9c",
   "metadata": {},
   "outputs": [
    {
     "data": {
      "text/plain": [
       "0"
      ]
     },
     "execution_count": 7,
     "metadata": {},
     "output_type": "execute_result"
    }
   ],
   "source": [
    "#4. Перевірка наявності дублікатів\n",
    "df.duplicated().sum()"
   ]
  },
  {
   "cell_type": "code",
   "execution_count": 8,
   "id": "8d6f518c",
   "metadata": {},
   "outputs": [
    {
     "name": "stdout",
     "output_type": "stream",
     "text": [
      "[2014 2015 2016 2017 2018]\n"
     ]
    }
   ],
   "source": [
    "# Виділення років зі стовпця \"Date\" та отримання унікальних років\n",
    "unique_years = df['Date'].dt.year.unique()\n",
    "\n",
    "# Виведення унікальних років\n",
    "print(unique_years)"
   ]
  },
  {
   "cell_type": "code",
   "execution_count": 9,
   "id": "365f1c28",
   "metadata": {},
   "outputs": [],
   "source": [
    "# Створення словника, який містить нові назви стовпців\n",
    "new_column_names = {\n",
    "    'Date': 'date',\n",
    "    'Avila Adobe': 'avila_adobe',\n",
    "    'Firehouse Museum': 'firehouse_museum',\n",
    "    'Chinese American Museum': 'chinese_american_museum',\n",
    "    'America Tropical Interpretive Center': 'america_tropical_interpretive_center'\n",
    "}\n",
    "\n",
    "# Зміна назв стовпців у датасеті\n",
    "df.rename(columns=new_column_names, inplace=True)\n",
    "\n",
    "# Тепер назви стовпців будуть змінені з великих букв на маленькі та з пробілів на підкреслення"
   ]
  },
  {
   "cell_type": "code",
   "execution_count": 10,
   "id": "728ca54a",
   "metadata": {},
   "outputs": [
    {
     "data": {
      "text/html": [
       "<div>\n",
       "<style scoped>\n",
       "    .dataframe tbody tr th:only-of-type {\n",
       "        vertical-align: middle;\n",
       "    }\n",
       "\n",
       "    .dataframe tbody tr th {\n",
       "        vertical-align: top;\n",
       "    }\n",
       "\n",
       "    .dataframe thead th {\n",
       "        text-align: right;\n",
       "    }\n",
       "</style>\n",
       "<table border=\"1\" class=\"dataframe\">\n",
       "  <thead>\n",
       "    <tr style=\"text-align: right;\">\n",
       "      <th></th>\n",
       "      <th>date</th>\n",
       "      <th>avila_adobe</th>\n",
       "      <th>firehouse_museum</th>\n",
       "      <th>chinese_american_museum</th>\n",
       "      <th>america_tropical_interpretive_center</th>\n",
       "    </tr>\n",
       "  </thead>\n",
       "  <tbody>\n",
       "    <tr>\n",
       "      <th>0</th>\n",
       "      <td>2014-01-01</td>\n",
       "      <td>24778</td>\n",
       "      <td>4486</td>\n",
       "      <td>1581</td>\n",
       "      <td>6602</td>\n",
       "    </tr>\n",
       "    <tr>\n",
       "      <th>1</th>\n",
       "      <td>2014-02-01</td>\n",
       "      <td>18976</td>\n",
       "      <td>4172</td>\n",
       "      <td>1785</td>\n",
       "      <td>5029</td>\n",
       "    </tr>\n",
       "    <tr>\n",
       "      <th>2</th>\n",
       "      <td>2014-03-01</td>\n",
       "      <td>25231</td>\n",
       "      <td>7082</td>\n",
       "      <td>3229</td>\n",
       "      <td>8129</td>\n",
       "    </tr>\n",
       "    <tr>\n",
       "      <th>3</th>\n",
       "      <td>2014-04-01</td>\n",
       "      <td>26989</td>\n",
       "      <td>6756</td>\n",
       "      <td>2129</td>\n",
       "      <td>2824</td>\n",
       "    </tr>\n",
       "    <tr>\n",
       "      <th>4</th>\n",
       "      <td>2014-05-01</td>\n",
       "      <td>36883</td>\n",
       "      <td>10858</td>\n",
       "      <td>3676</td>\n",
       "      <td>10694</td>\n",
       "    </tr>\n",
       "  </tbody>\n",
       "</table>\n",
       "</div>"
      ],
      "text/plain": [
       "        date  avila_adobe  firehouse_museum  chinese_american_museum  \\\n",
       "0 2014-01-01        24778              4486                     1581   \n",
       "1 2014-02-01        18976              4172                     1785   \n",
       "2 2014-03-01        25231              7082                     3229   \n",
       "3 2014-04-01        26989              6756                     2129   \n",
       "4 2014-05-01        36883             10858                     3676   \n",
       "\n",
       "   america_tropical_interpretive_center  \n",
       "0                                  6602  \n",
       "1                                  5029  \n",
       "2                                  8129  \n",
       "3                                  2824  \n",
       "4                                 10694  "
      ]
     },
     "execution_count": 10,
     "metadata": {},
     "output_type": "execute_result"
    }
   ],
   "source": [
    "df.head()"
   ]
  },
  {
   "cell_type": "code",
   "execution_count": 11,
   "id": "4a1d6f4b",
   "metadata": {},
   "outputs": [
    {
     "name": "stdout",
     "output_type": "stream",
     "text": [
      "Average Visitors every month for Avila Adobe: 24061.661016949154\n",
      "Average Visitors every month for Firehouse Museum: 6472.830508474576\n",
      "Average Visitors every month for Chinese American Museum: 2721.2542372881358\n",
      "Average Visitors every month for America Tropical Interpretive Center: 7107.016949152542\n"
     ]
    }
   ],
   "source": [
    "#7.\tОбчислення середньої щомісячної відвідуваності для кожного музея за весь період.\n",
    "# Обчислення середнього значення для кожного музею за кожний місяць\n",
    "average_avila_adobe = df['avila_adobe'].mean()\n",
    "average_firehouse_museum = df['firehouse_museum'].mean()\n",
    "average_chinese_american_museum = df['chinese_american_museum'].mean()\n",
    "average_america_tropical_interpretive_center = df['america_tropical_interpretive_center'].mean()\n",
    "\n",
    "# Виведення середнього значення для кожного музею за кожний місяць\n",
    "print(\"Average Visitors every month for Avila Adobe:\", average_avila_adobe)\n",
    "print(\"Average Visitors every month for Firehouse Museum:\", average_firehouse_museum)\n",
    "print(\"Average Visitors every month for Chinese American Museum:\", average_chinese_american_museum)\n",
    "print(\"Average Visitors every month for America Tropical Interpretive Center:\", average_america_tropical_interpretive_center)\n"
   ]
  },
  {
   "cell_type": "code",
   "execution_count": 12,
   "id": "d30b4520",
   "metadata": {},
   "outputs": [
    {
     "name": "stdout",
     "output_type": "stream",
     "text": [
      "Minimum number of visitors for 2018:\n",
      "avila_adobe                             14718\n",
      "firehouse_museum                         3306\n",
      "chinese_american_museum                  2146\n",
      "america_tropical_interpretive_center     3180\n",
      "dtype: int64\n",
      "\n",
      "Maximum number of visitors for 2018:\n",
      "avila_adobe                             25173\n",
      "firehouse_museum                         8013\n",
      "chinese_american_museum                  4960\n",
      "america_tropical_interpretive_center     5837\n",
      "dtype: int64\n"
     ]
    }
   ],
   "source": [
    "# Виділення років зі стовпця \"date\"\n",
    "df['year'] = df['date'].dt.year\n",
    "\n",
    "# Відфільтрування даних за 2018 рік\n",
    "data_2018 = df[df['year'] == 2018]\n",
    "\n",
    "# Знаходження мінімальної та максимальної кількості відвідувачів для кожного музею\n",
    "min_visitors_2018 = data_2018[['avila_adobe', 'firehouse_museum', 'chinese_american_museum', 'america_tropical_interpretive_center']].min()\n",
    "max_visitors_2018 = data_2018[['avila_adobe', 'firehouse_museum', 'chinese_american_museum', 'america_tropical_interpretive_center']].max()\n",
    "\n",
    "# Виведення мінімальної та максимальної кількості відвідувачів для кожного музею за 2018 рік\n",
    "print(\"Minimum number of visitors for 2018:\")\n",
    "print(min_visitors_2018)\n",
    "\n",
    "print(\"\\nMaximum number of visitors for 2018:\")\n",
    "print(max_visitors_2018)\n"
   ]
  },
  {
   "cell_type": "code",
   "execution_count": 13,
   "id": "5808d988",
   "metadata": {},
   "outputs": [
    {
     "name": "stdout",
     "output_type": "stream",
     "text": [
      "The month with the highest number of visitors for 2015: May\n",
      "The month with the lowest number of visitors for 2015: February\n"
     ]
    }
   ],
   "source": [
    "# Виділення років і місяців зі стовпця \"date\"\n",
    "df['year'] = df['date'].dt.year\n",
    "df['month'] = df['date'].dt.month\n",
    "\n",
    "# Відфільтрування даних за 2015 рік\n",
    "data_2015 = df[df['year'] == 2015]\n",
    "\n",
    "# Групування даних за місяцем та обчислення загальної кількості відвідувачів для кожного місяця\n",
    "monthly_total_visitors = data_2015.groupby('month')[['avila_adobe', 'firehouse_museum', 'chinese_american_museum', 'america_tropical_interpretive_center']].sum()\n",
    "\n",
    "# Знаходження місяця з найвищою і найнижчою загальною кількістю відвідувачів\n",
    "highest_month = monthly_total_visitors.sum(axis=1).idxmax()\n",
    "lowest_month = monthly_total_visitors.sum(axis=1).idxmin()\n",
    "\n",
    "# Визначення назв місяців (не цифри)\n",
    "import calendar\n",
    "highest_month_name = calendar.month_name[highest_month]\n",
    "lowest_month_name = calendar.month_name[lowest_month]\n",
    "\n",
    "# Виведення результатів\n",
    "print(\"The month with the highest number of visitors for 2015:\", highest_month_name)\n",
    "print(\"The month with the lowest number of visitors for 2015:\", lowest_month_name)\n"
   ]
  },
  {
   "cell_type": "code",
   "execution_count": 14,
   "id": "f8a097c5",
   "metadata": {},
   "outputs": [
    {
     "name": "stdout",
     "output_type": "stream",
     "text": [
      "The average number of visitors to the 'Avila Adobe' museum in the summer months of 2018: 22040.666666666668\n",
      "The average number of visitors to the 'Avila Adobe' museum in the winter months of 2018: 15491.5\n"
     ]
    }
   ],
   "source": [
    "# Відфільтрування даних за 2018 рік\n",
    "data_2018 = df[df['year'] == 2018]\n",
    "\n",
    "# Визначення літніх і зимових місяців\n",
    "summer_months = [6, 7, 8]\n",
    "winter_months = [12, 1, 2]\n",
    "\n",
    "# Відфільтрування даних для літніх і зимових місяців 2018 року для музею \"Avila Adobe\"\n",
    "summer_visitors = data_2018[data_2018['month'].isin(summer_months)]['avila_adobe']\n",
    "winter_visitors = data_2018[data_2018['month'].isin(winter_months)]['avila_adobe']\n",
    "\n",
    "# Обчислення середньої кількості відвідувачів для літніх і зимових місяців\n",
    "average_summer_visitors = summer_visitors.mean()\n",
    "average_winter_visitors = winter_visitors.mean()\n",
    "\n",
    "# Виведення результатів порівняння\n",
    "print(\"The average number of visitors to the 'Avila Adobe' museum in the summer months of 2018:\", average_summer_visitors)\n",
    "print(\"The average number of visitors to the 'Avila Adobe' museum in the winter months of 2018:\", average_winter_visitors)\n"
   ]
  },
  {
   "cell_type": "code",
   "execution_count": 15,
   "id": "ca5e2739",
   "metadata": {},
   "outputs": [
    {
     "name": "stdout",
     "output_type": "stream",
     "text": [
      "                                      avila_adobe  firehouse_museum  \\\n",
      "avila_adobe                              1.000000          0.737200   \n",
      "firehouse_museum                         0.737200          1.000000   \n",
      "chinese_american_museum                  0.089054          0.553935   \n",
      "america_tropical_interpretive_center     0.436561          0.247389   \n",
      "\n",
      "                                      chinese_american_museum  \\\n",
      "avila_adobe                                          0.089054   \n",
      "firehouse_museum                                     0.553935   \n",
      "chinese_american_museum                              1.000000   \n",
      "america_tropical_interpretive_center                 0.443800   \n",
      "\n",
      "                                      america_tropical_interpretive_center  \n",
      "avila_adobe                                                       0.436561  \n",
      "firehouse_museum                                                  0.247389  \n",
      "chinese_american_museum                                           0.443800  \n",
      "america_tropical_interpretive_center                              1.000000  \n"
     ]
    }
   ],
   "source": [
    "# Відфільтрування даних за 2016 рік\n",
    "data_2016 = df[df['year'] == 2016]\n",
    "\n",
    "# Вибірка стовпців, які містять кількість відвідувачів у музеях\n",
    "museum_columns = ['avila_adobe', 'firehouse_museum', 'chinese_american_museum', 'america_tropical_interpretive_center']\n",
    "museum_data_2016 = data_2016[museum_columns]\n",
    "\n",
    "# Обчислення кореляції між кількістю відвідувачів у музеях та датами\n",
    "correlation_matrix = museum_data_2016.corr()\n",
    "\n",
    "# Виведення матриці кореляції\n",
    "print(correlation_matrix)\n"
   ]
  },
  {
   "cell_type": "code",
   "execution_count": null,
   "id": "ea3ce7ae",
   "metadata": {},
   "outputs": [],
   "source": []
  }
 ],
 "metadata": {
  "kernelspec": {
   "display_name": "Python 3 (ipykernel)",
   "language": "python",
   "name": "python3"
  },
  "language_info": {
   "codemirror_mode": {
    "name": "ipython",
    "version": 3
   },
   "file_extension": ".py",
   "mimetype": "text/x-python",
   "name": "python",
   "nbconvert_exporter": "python",
   "pygments_lexer": "ipython3",
   "version": "3.10.13"
  }
 },
 "nbformat": 4,
 "nbformat_minor": 5
}
